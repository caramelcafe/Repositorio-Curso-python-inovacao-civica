{
  "cells": [
    {
      "cell_type": "markdown",
      "metadata": {
        "id": "9aUTR9hD9QuN"
      },
      "source": [
        "# 1. Apresentação: "
      ]
    },
    {
      "cell_type": "markdown",
      "metadata": {
        "id": "tPluP35E8VQo"
      },
      "source": [
        "O desafio deste módulo envolve ajudar a criar um programa em Python que soma três números. Uma pessoa fez parte do código, mas ele precisa ser finalizado. Existem partes do código faltando e correções precisam ser realizadas, pois o código contém 3 erros. **Você deve alterar o código neste notebook.**\n",
        "\n",
        "\n",
        "\n",
        "\n",
        "\n"
      ]
    },
    {
      "cell_type": "markdown",
      "metadata": {
        "id": "t-BkgXHeYW3x"
      },
      "source": [
        "# 2. Dicas"
      ]
    },
    {
      "cell_type": "markdown",
      "metadata": {
        "id": "m0J6ZTlWQt9p"
      },
      "source": [
        "*   Antes de ir pro código, leia a descrição do desafio e busque definir pequenos passos para chegar a solução.  \n",
        "*   Leia o código para se familiarizar com a solução que está em desenvolvimento;\n",
        "\n",
        "*  Tente entender o que o código faz ou significa. \n",
        "\n",
        "*  Busque encontrar as partes que faltam ser colocadas e erros no código que precisam ser corrigidos;\n",
        "\n",
        "*  Se aparecer erros, procure corrigir e/ou repita os passos acima.\n"
      ]
    },
    {
      "cell_type": "markdown",
      "metadata": {
        "id": "KxyVKC7wYbv-"
      },
      "source": [
        "# 3. Descrição do desafio"
      ]
    },
    {
      "cell_type": "markdown",
      "metadata": {
        "id": "78VQdbBeXgVN"
      },
      "source": [
        "Faça um programa que Calcule a **soma** de **três números inteiros**. O programa deve exibir na tela uma mensagem como a indicada abaixo de exemplo:\n",
        "\n",
        "OBS: os valores 15, 10, 30 representam números de exemplo. Seu programa deve funcionar para quaisquer outros valores. \n",
        "\n",
        "\n",
        "```\n",
        "    Entrada: 15, 10, 30\n",
        "    Processamento: 15 + 10 + 30\n",
        "    Saída: 55\n",
        "```\n",
        "    \n",
        "\n",
        "\n",
        "\n"
      ]
    },
    {
      "cell_type": "markdown",
      "metadata": {
        "id": "OGYH7v5VTc4A"
      },
      "source": [
        "# 4. Desafio\n",
        "\n",
        "Complete e ajuste o código abaixo para solucionar o desafio. "
      ]
    },
    {
      "cell_type": "code",
      "execution_count": 1,
      "metadata": {
        "id": "bJh04OEnPb_2"
      },
      "outputs": [
        {
          "ename": "SyntaxError",
          "evalue": "invalid decimal literal (2482151213.py, line 3)",
          "output_type": "error",
          "traceback": [
            "\u001b[0;36m  Input \u001b[0;32mIn [1]\u001b[0;36m\u001b[0m\n\u001b[0;31m    num3 = int(input(Digite o 3º número: ))\u001b[0m\n\u001b[0m                              ^\u001b[0m\n\u001b[0;31mSyntaxError\u001b[0m\u001b[0;31m:\u001b[0m invalid decimal literal\n"
          ]
        }
      ],
      "source": [
        "num1 = int(input('Digite o 1º número: '))\n",
        "num2 = input('Digite o 2º número: ')\n",
        "num3 = int(input(Digite o 3º número: ))\n",
        "\n",
        "soma = num1 + \n",
        "\n",
        "print(f'Entrada: {num1}, {num2}')\n",
        "print(f'Processamento: ')\n",
        "print(Saída: )"
      ]
    },
    {
      "cell_type": "code",
      "execution_count": 2,
      "metadata": {
        "id": "bJh04OEnPb_2"
      },
      "outputs": [
        {
          "name": "stdout",
          "output_type": "stream",
          "text": [
            "30\n"
          ]
        }
      ],
      "source": [
        "num1 = 6\n",
        "num2 = 10\n",
        "num3 = 14\n",
        "\n",
        "soma = num1 + num2 + num3\n",
        "\n",
        "print(soma)\n"
      ]
    },
    {
      "cell_type": "code",
      "execution_count": null,
      "metadata": {},
      "outputs": [],
      "source": []
    }
  ],
  "metadata": {
    "colab": {
      "collapsed_sections": [],
      "name": "M0-desafio.ipynb",
      "provenance": []
    },
    "kernelspec": {
      "display_name": "Python 3.10.6 64-bit",
      "language": "python",
      "name": "python3"
    },
    "language_info": {
      "codemirror_mode": {
        "name": "ipython",
        "version": 3
      },
      "file_extension": ".py",
      "mimetype": "text/x-python",
      "name": "python",
      "nbconvert_exporter": "python",
      "pygments_lexer": "ipython3",
      "version": "3.10.6"
    },
    "vscode": {
      "interpreter": {
        "hash": "aee8b7b246df8f9039afb4144a1f6fd8d2ca17a180786b69acc140d282b71a49"
      }
    }
  },
  "nbformat": 4,
  "nbformat_minor": 0
}
