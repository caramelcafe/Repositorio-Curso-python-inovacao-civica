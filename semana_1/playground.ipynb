{
 "cells": [
  {
   "cell_type": "code",
   "execution_count": 18,
   "metadata": {},
   "outputs": [],
   "source": [
    "lista_nomes = ['psol', 'pt', 'avante', 'podemos', 'up', 'mdb', 'psdb', 'cidadania', 'pt', 'pcb', 'pdt', 'união brasil']\n",
    "lista_partido_P = []\n",
    "lista_partido_outra = []\n",
    "i = 5 # criar uma variável para não mudar todos os elementos do código. \n",
    "for i in range(len(lista_nomes)):\n",
    "    if lista_nomes[i][0] == 'p':\n",
    "        lista_partido_P.append(lista_nomes[i])\n",
    "    else:\n",
    "        lista_partido_outra.append(lista_nomes[i])\n",
    "    \n"
   ]
  },
  {
   "cell_type": "code",
   "execution_count": 19,
   "metadata": {},
   "outputs": [
    {
     "data": {
      "text/plain": [
       "(['psol', 'pt', 'podemos', 'psdb', 'pt', 'pcb', 'pdt'],\n",
       " ['avante', 'up', 'mdb', 'cidadania', 'união brasil'])"
      ]
     },
     "execution_count": 19,
     "metadata": {},
     "output_type": "execute_result"
    }
   ],
   "source": [
    "lista_partido_P, lista_partido_outra"
   ]
  },
  {
   "cell_type": "code",
   "execution_count": null,
   "metadata": {},
   "outputs": [],
   "source": [
    "# Esse é um exercício de checagem: o programa vai olhar a primeira letra do item da lista que eu for indicar - linha if-"
   ]
  }
 ],
 "metadata": {
  "kernelspec": {
   "display_name": "Python 3.10.6 64-bit",
   "language": "python",
   "name": "python3"
  },
  "language_info": {
   "codemirror_mode": {
    "name": "ipython",
    "version": 3
   },
   "file_extension": ".py",
   "mimetype": "text/x-python",
   "name": "python",
   "nbconvert_exporter": "python",
   "pygments_lexer": "ipython3",
   "version": "3.10.6"
  },
  "orig_nbformat": 4,
  "vscode": {
   "interpreter": {
    "hash": "aee8b7b246df8f9039afb4144a1f6fd8d2ca17a180786b69acc140d282b71a49"
   }
  }
 },
 "nbformat": 4,
 "nbformat_minor": 2
}
